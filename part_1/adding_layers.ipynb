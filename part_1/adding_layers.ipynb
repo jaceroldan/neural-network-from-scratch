{
 "cells": [
  {
   "cell_type": "code",
   "execution_count": null,
   "metadata": {},
   "outputs": [],
   "source": [
    "import numpy as np\n",
    "\n",
    "inputs = [\n",
    "    [1,2,3,2.5],\n",
    "    [2.,5.,-1,2],\n",
    "    [-1.5,2.7,3.3,-0.8],\n",
    "]\n",
    "weights = [\n",
    "    [0.2, 0.8, -0.5, 1],\n",
    "    [0.5, -0.91, 0.26,-0.5],\n",
    "    [-0.26,-0.27,0.17,0.87],\n",
    "]\n",
    "\n",
    "biases = [2,3,0.5]\n",
    "weights2 = [\n",
    "    [0.1,-0.14,0.5],\n",
    "    [-0.5,0.12,-0.33],\n",
    "    [-0.44,-0.73,-0.13],\n",
    "]\n",
    "biases2 = [-1,2,-0.5]\n",
    "\n",
    "layer1_outputs = np.dot(np.array(inputs), np.array(weights).T) + biases\n",
    "layer2_outputs = np.dot(layer1_outputs, np.array(weights2).T) + biases2\n"
   ]
  }
 ],
 "metadata": {
  "kernelspec": {
   "display_name": "venv",
   "language": "python",
   "name": "python3"
  },
  "language_info": {
   "codemirror_mode": {
    "name": "ipython",
    "version": 3
   },
   "file_extension": ".py",
   "mimetype": "text/x-python",
   "name": "python",
   "nbconvert_exporter": "python",
   "pygments_lexer": "ipython3",
   "version": "3.10.7"
  }
 },
 "nbformat": 4,
 "nbformat_minor": 2
}
